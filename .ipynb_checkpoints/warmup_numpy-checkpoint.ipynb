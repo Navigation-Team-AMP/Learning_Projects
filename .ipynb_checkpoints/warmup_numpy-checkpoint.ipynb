{
 "cells": [
  {
   "cell_type": "code",
   "execution_count": 1,
   "metadata": {},
   "outputs": [],
   "source": [
    "# imports\n",
    "import numpy as np\n",
    "import math"
   ]
  },
  {
   "cell_type": "code",
   "execution_count": 2,
   "metadata": {},
   "outputs": [],
   "source": [
    "# generating my data points of correctly plotted function\n",
    "x = np.linspace(-math.pi, math.pi, 2000)\n",
    "y = np.sin(x)"
   ]
  },
  {
   "cell_type": "code",
   "execution_count": 4,
   "metadata": {},
   "outputs": [],
   "source": [
    "# random weights to be generated\n",
    "a = np.random.randn()\n",
    "b = np.random.randn()\n",
    "c = np.random.randn()\n",
    "d = np.random.randn()\n",
    "learning_rate = 1e-6\n"
   ]
  },
  {
   "cell_type": "code",
   "execution_count": 5,
   "metadata": {},
   "outputs": [
    {
     "name": "stdout",
     "output_type": "stream",
     "text": [
      "-0.716140861844536 0.38430719611758 0.09619618803359826 -0.8770349627488658\n"
     ]
    }
   ],
   "source": [
    "print(a,b,c,d)"
   ]
  },
  {
   "cell_type": "code",
   "execution_count": 6,
   "metadata": {},
   "outputs": [
    {
     "name": "stdout",
     "output_type": "stream",
     "text": [
      "99 416.20464538042637\n",
      "-1037.7279432428545 -596.8463542193654 178.42731118921728 84.89619650392478\n",
      "199 293.0421450778151\n",
      "-872.8755216350735 -485.33942468890507 150.58541456555741 69.0353067891026\n",
      "299 207.2625348142483\n",
      "-734.2822433456555 -394.664984534332 126.67590545472171 56.13765727708653\n",
      "399 147.47067302263667\n",
      "-617.6945208831944 -320.93096520507106 106.56258333353694 45.64963510898701\n",
      "499 105.76073786231\n",
      "-519.6183410256668 -260.97244109199363 89.64281031344348 37.12105717732618\n",
      "599 76.64261646394014\n",
      "-437.11448167649223 -212.21577969578146 75.40952170556545 30.185846670461956\n",
      "699 56.30029150255031\n",
      "-367.7104039748868 -172.56817219260907 63.43616341320106 24.54631975753722\n",
      "799 42.07902408600456\n",
      "-309.3261533518437 -140.32780265722002 53.363908662602725 19.960407942742563\n",
      "899 32.13038412339419\n",
      "-260.21202585821646 -114.11080008789283 44.89090440734345 16.231267626918225\n",
      "999 25.166296662749623\n",
      "-218.89613169637127 -92.79183775510519 37.763225164978095 13.198830882223149\n",
      "1099 20.28845807625446\n",
      "-184.14028449916142 -75.45583018730372 31.76726318366596 10.732934768999769\n",
      "1199 16.86991381351685\n",
      "-154.90289441233747 -61.35865445710731 26.723326881416323 8.727734280660002\n",
      "1299 14.472772054565107\n",
      "-130.30775293186332 -49.8952097861906 22.480255711115472 7.097159100770028\n",
      "1399 12.790975655037702\n",
      "-109.61777401622996 -40.57344447388779 18.91089006543244 5.771219159746295\n",
      "1499 11.610467192543823\n",
      "-92.21290452730285 -32.993235293124506 15.908260460313532 4.693000412834181\n",
      "1599 10.781437817027426\n",
      "-77.57154200287312 -26.829212782467682 13.382381791526338 3.8162218874634704\n",
      "1699 10.198978807299282\n",
      "-65.25490287448758 -21.816795234898674 11.257556592119347 3.103249139833835\n",
      "1799 9.789581176475085\n",
      "-54.89387266532711 -17.74083191261024 9.470106472752498 2.523478851049731\n",
      "1899 9.501708764670095\n",
      "-46.17794408480022 -14.426368014313553 7.966463758933024 2.052025224114743\n",
      "1999 9.299211030991678\n",
      "-38.84591150818588 -11.731134994658007 6.70156613392016 1.6686517973639212\n"
     ]
    }
   ],
   "source": [
    "for t in range(2000):\n",
    "    # Forward pass: compute predicted y\n",
    "    # y = a + b x + c x^2 + d x^3\n",
    "    y_pred = a + b * x + c * x ** 2 + d * x ** 3\n",
    "\n",
    "    # Compute and print loss (MSE)\n",
    "    \n",
    "    loss = np.square(y_pred - y).sum()\n",
    "    if t % 100 == 99:\n",
    "        print(t, loss)\n",
    "        print(grad_a, grad_b, grad_c, grad_d)\n",
    "\n",
    "    # Backprop to compute gradients of a, b, c, d with respect to loss\n",
    "    grad_y_pred = 2.0 * (y_pred - y)\n",
    "    grad_a = grad_y_pred.sum()\n",
    "    grad_b = (grad_y_pred * x).sum()\n",
    "    grad_c = (grad_y_pred * x ** 2).sum()\n",
    "    grad_d = (grad_y_pred * x ** 3).sum()\n",
    "\n",
    "    # Update weights\n",
    "    a -= learning_rate * grad_a\n",
    "    b -= learning_rate * grad_b\n",
    "    c -= learning_rate * grad_c\n",
    "    d -= learning_rate * grad_d"
   ]
  },
  {
   "cell_type": "code",
   "execution_count": 7,
   "metadata": {},
   "outputs": [
    {
     "name": "stdout",
     "output_type": "stream",
     "text": [
      "Result: y = -0.022409146283462363 + 0.8510860256087285 x + 0.0038659506237009628 x^2 + -0.09252604049877837 x^3\n"
     ]
    }
   ],
   "source": [
    "print(f'Result: y = {a} + {b} x + {c} x^2 + {d} x^3')\n"
   ]
  },
  {
   "cell_type": "code",
   "execution_count": 8,
   "metadata": {},
   "outputs": [],
   "source": [
    "import matplotlib.pyplot as plt"
   ]
  },
  {
   "cell_type": "code",
   "execution_count": null,
   "metadata": {},
   "outputs": [],
   "source": [
    "# actual values\n",
    "plt.subplot(121)\n",
    "plt.plot(x=x, y=y)\n",
    "plt.title(\"y=sin(x)\")\n",
    "plt.xticks([]),plt.yticks([])\n",
    "\n",
    "# predicted values\n",
    "plt.subplot(121)\n",
    "plt.plot(x=x, y=y)\n",
    "plt.title(f'Result: y = {a} + {b} x + {c} x^2 + {d} x^3')\n",
    "plt.xticks([]),plt.yticks([])\n",
    "\n",
    "plt.show()\n"
   ]
  }
 ],
 "metadata": {
  "kernelspec": {
   "display_name": "Python 3",
   "language": "python",
   "name": "python3"
  },
  "language_info": {
   "codemirror_mode": {
    "name": "ipython",
    "version": 3
   },
   "file_extension": ".py",
   "mimetype": "text/x-python",
   "name": "python",
   "nbconvert_exporter": "python",
   "pygments_lexer": "ipython3",
   "version": "3.7.6"
  }
 },
 "nbformat": 4,
 "nbformat_minor": 4
}
